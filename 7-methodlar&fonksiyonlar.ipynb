{
 "cells": [
  {
   "cell_type": "code",
   "execution_count": 1,
   "id": "1c7def95",
   "metadata": {},
   "outputs": [],
   "source": [
    "benim_string = \"merve şimşek\""
   ]
  },
  {
   "cell_type": "code",
   "execution_count": 2,
   "id": "c6bb303e",
   "metadata": {},
   "outputs": [
    {
     "data": {
      "text/plain": [
       "'Merve şimşek'"
      ]
     },
     "execution_count": 2,
     "metadata": {},
     "output_type": "execute_result"
    }
   ],
   "source": [
    "benim_string.capitalize()"
   ]
  },
  {
   "cell_type": "code",
   "execution_count": 3,
   "id": "781d73f9",
   "metadata": {},
   "outputs": [
    {
     "data": {
      "text/plain": [
       "'MERVE ŞIMŞEK'"
      ]
     },
     "execution_count": 3,
     "metadata": {},
     "output_type": "execute_result"
    }
   ],
   "source": [
    "benim_string.upper()"
   ]
  },
  {
   "cell_type": "code",
   "execution_count": 4,
   "id": "d41644e6",
   "metadata": {},
   "outputs": [
    {
     "data": {
      "text/plain": [
       "'merve şimşek'"
      ]
     },
     "execution_count": 4,
     "metadata": {},
     "output_type": "execute_result"
    }
   ],
   "source": [
    "benim_string"
   ]
  },
  {
   "cell_type": "code",
   "execution_count": 5,
   "id": "422138fd",
   "metadata": {},
   "outputs": [],
   "source": [
    "buyuk_harf = benim_string.upper()"
   ]
  },
  {
   "cell_type": "code",
   "execution_count": 6,
   "id": "8a348e1c",
   "metadata": {},
   "outputs": [
    {
     "data": {
      "text/plain": [
       "'MERVE ŞIMŞEK'"
      ]
     },
     "execution_count": 6,
     "metadata": {},
     "output_type": "execute_result"
    }
   ],
   "source": [
    "buyuk_harf"
   ]
  },
  {
   "cell_type": "code",
   "execution_count": 7,
   "id": "035c1cc2",
   "metadata": {},
   "outputs": [
    {
     "name": "stdout",
     "output_type": "stream",
     "text": [
      "Help on built-in function upper:\n",
      "\n",
      "upper() method of builtins.str instance\n",
      "    Return a copy of the string converted to uppercase.\n",
      "\n"
     ]
    }
   ],
   "source": [
    "help(benim_string.upper)"
   ]
  },
  {
   "cell_type": "markdown",
   "id": "03acf6f7",
   "metadata": {},
   "source": [
    "#fonksiyon"
   ]
  },
  {
   "cell_type": "code",
   "execution_count": 8,
   "id": "fb884c9d",
   "metadata": {},
   "outputs": [],
   "source": [
    "def enBasitFonksiyon():\n",
    "    print(\"en basit fonksiyon çalıştı\")"
   ]
  },
  {
   "cell_type": "code",
   "execution_count": 9,
   "id": "4c25f930",
   "metadata": {},
   "outputs": [
    {
     "name": "stdout",
     "output_type": "stream",
     "text": [
      "en basit fonksiyon çalıştı\n"
     ]
    }
   ],
   "source": [
    "enBasitFonksiyon()"
   ]
  },
  {
   "cell_type": "code",
   "execution_count": 10,
   "id": "fdd9bec9",
   "metadata": {},
   "outputs": [],
   "source": [
    "def birazDahaZorFonksiyon():\n",
    "    x = 5\n",
    "    x = x + 1\n",
    "    print(f\"x'in güncel değeri: {x}\")"
   ]
  },
  {
   "cell_type": "code",
   "execution_count": 11,
   "id": "845377d0",
   "metadata": {},
   "outputs": [
    {
     "name": "stdout",
     "output_type": "stream",
     "text": [
      "x'in güncel değeri: 6\n"
     ]
    }
   ],
   "source": [
    "birazDahaZorFonksiyon()"
   ]
  },
  {
   "cell_type": "code",
   "execution_count": 12,
   "id": "36cb3e65",
   "metadata": {},
   "outputs": [],
   "source": [
    "#input ve return işlemleri"
   ]
  },
  {
   "cell_type": "code",
   "execution_count": 13,
   "id": "594e2dbd",
   "metadata": {},
   "outputs": [],
   "source": [
    "def merhabaDunya():\n",
    "    print(\"merhaba dünya\")"
   ]
  },
  {
   "cell_type": "code",
   "execution_count": 14,
   "id": "f47f4249",
   "metadata": {},
   "outputs": [
    {
     "name": "stdout",
     "output_type": "stream",
     "text": [
      "merhaba dünya\n"
     ]
    }
   ],
   "source": [
    "merhabaDunya()"
   ]
  },
  {
   "cell_type": "code",
   "execution_count": 15,
   "id": "050a6d4b",
   "metadata": {},
   "outputs": [],
   "source": [
    "def merhabaSöyle(yazdirilacak_isim):\n",
    "    print(f\"merhaba {yazdirilacak_isim}\")"
   ]
  },
  {
   "cell_type": "code",
   "execution_count": 16,
   "id": "d6bf787c",
   "metadata": {},
   "outputs": [
    {
     "ename": "TypeError",
     "evalue": "merhabaSöyle() missing 1 required positional argument: 'yazdirilacak_isim'",
     "output_type": "error",
     "traceback": [
      "\u001b[1;31m---------------------------------------------------------------------------\u001b[0m",
      "\u001b[1;31mTypeError\u001b[0m                                 Traceback (most recent call last)",
      "Input \u001b[1;32mIn [16]\u001b[0m, in \u001b[0;36m<cell line: 1>\u001b[1;34m()\u001b[0m\n\u001b[1;32m----> 1\u001b[0m \u001b[43mmerhabaSöyle\u001b[49m\u001b[43m(\u001b[49m\u001b[43m)\u001b[49m\n",
      "\u001b[1;31mTypeError\u001b[0m: merhabaSöyle() missing 1 required positional argument: 'yazdirilacak_isim'"
     ]
    }
   ],
   "source": [
    "merhabaSöyle()"
   ]
  },
  {
   "cell_type": "code",
   "execution_count": null,
   "id": "2389c7c4",
   "metadata": {},
   "outputs": [],
   "source": [
    "merhabaSöyle(\"merve\")"
   ]
  },
  {
   "cell_type": "code",
   "execution_count": null,
   "id": "b5082404",
   "metadata": {},
   "outputs": [],
   "source": [
    "isim = input(\"isminizi giriniz: \")\n",
    "merhabaSöyle(isim)"
   ]
  },
  {
   "cell_type": "code",
   "execution_count": null,
   "id": "49fc5b4e",
   "metadata": {},
   "outputs": [],
   "source": [
    "def alternatifMerhaba(isim = \"python\"):\n",
    "    print(f\"merhaba {isim}\")"
   ]
  },
  {
   "cell_type": "code",
   "execution_count": null,
   "id": "73d6fe4f",
   "metadata": {},
   "outputs": [],
   "source": [
    "alternatifMerhaba()"
   ]
  },
  {
   "cell_type": "code",
   "execution_count": null,
   "id": "af89e3b2",
   "metadata": {},
   "outputs": [],
   "source": [
    "alternatifMerhaba(\"mehmet\")"
   ]
  },
  {
   "cell_type": "code",
   "execution_count": null,
   "id": "b1aca223",
   "metadata": {},
   "outputs": [],
   "source": [
    "def toplama(num1,num2):\n",
    "    sonuc = num1 + num2\n",
    "    print(sonuc)"
   ]
  },
  {
   "cell_type": "code",
   "execution_count": null,
   "id": "18d3ecd8",
   "metadata": {},
   "outputs": [],
   "source": [
    "toplama(10,100)"
   ]
  },
  {
   "cell_type": "code",
   "execution_count": null,
   "id": "dcd047ac",
   "metadata": {},
   "outputs": [],
   "source": [
    "toplama(-100,600)"
   ]
  },
  {
   "cell_type": "code",
   "execution_count": null,
   "id": "960c4f44",
   "metadata": {},
   "outputs": [],
   "source": [
    "def ucluToplama(num1,num2,num3):\n",
    "    print(num1+num2+num3)"
   ]
  },
  {
   "cell_type": "code",
   "execution_count": null,
   "id": "559f89ea",
   "metadata": {},
   "outputs": [],
   "source": [
    "ucluToplama(10,20,30)"
   ]
  },
  {
   "cell_type": "code",
   "execution_count": null,
   "id": "709d9b0d",
   "metadata": {},
   "outputs": [],
   "source": [
    "sonuc = ucluToplama(10,10,10)"
   ]
  },
  {
   "cell_type": "code",
   "execution_count": null,
   "id": "4fa1e9e5",
   "metadata": {},
   "outputs": [],
   "source": [
    "sonuc"
   ]
  },
  {
   "cell_type": "code",
   "execution_count": null,
   "id": "6b88e1d0",
   "metadata": {},
   "outputs": [],
   "source": [
    "print(sonuc)"
   ]
  },
  {
   "cell_type": "code",
   "execution_count": null,
   "id": "2b77b6a3",
   "metadata": {},
   "outputs": [],
   "source": [
    "type(sonuc)"
   ]
  },
  {
   "cell_type": "code",
   "execution_count": null,
   "id": "967bc539",
   "metadata": {},
   "outputs": [],
   "source": [
    "x = None"
   ]
  },
  {
   "cell_type": "code",
   "execution_count": null,
   "id": "ea2ce370",
   "metadata": {},
   "outputs": [],
   "source": [
    "x"
   ]
  },
  {
   "cell_type": "code",
   "execution_count": null,
   "id": "997dbe26",
   "metadata": {},
   "outputs": [],
   "source": [
    "type(x)"
   ]
  },
  {
   "cell_type": "code",
   "execution_count": null,
   "id": "e358e6ed",
   "metadata": {},
   "outputs": [],
   "source": [
    "def degerDonduranToplama(num1,num2):\n",
    "    print(num1+num2)\n",
    "    return num1+num2"
   ]
  },
  {
   "cell_type": "code",
   "execution_count": null,
   "id": "88908450",
   "metadata": {},
   "outputs": [],
   "source": [
    "y = degerDonduranToplama(20,50)"
   ]
  },
  {
   "cell_type": "code",
   "execution_count": null,
   "id": "dea81166",
   "metadata": {},
   "outputs": [],
   "source": [
    "y"
   ]
  },
  {
   "cell_type": "code",
   "execution_count": null,
   "id": "c0134085",
   "metadata": {},
   "outputs": [],
   "source": [
    "type(y)"
   ]
  },
  {
   "cell_type": "code",
   "execution_count": null,
   "id": "e479ef3e",
   "metadata": {},
   "outputs": [],
   "source": [
    "def stringKontrolFonksiyonu(s):\n",
    "    if s == \"python\":\n",
    "        return \"python kelimesini vermişsiniz\"\n",
    "    elif s == \"ruby\":\n",
    "        return \"ruby kelimesini vermişsiniz\"\n",
    "    else:\n",
    "        return \"python veya ruby vermemişsiniz\""
   ]
  },
  {
   "cell_type": "code",
   "execution_count": null,
   "id": "88771961",
   "metadata": {},
   "outputs": [],
   "source": [
    "stringKontrolFonksiyonu(\"python\")"
   ]
  },
  {
   "cell_type": "code",
   "execution_count": null,
   "id": "6818db5a",
   "metadata": {},
   "outputs": [],
   "source": [
    "def degerDonduren(num1,num2):\n",
    "    return num1+num2"
   ]
  },
  {
   "cell_type": "code",
   "execution_count": null,
   "id": "5c94404b",
   "metadata": {},
   "outputs": [],
   "source": [
    "degerDonduren(30,40)"
   ]
  },
  {
   "cell_type": "code",
   "execution_count": null,
   "id": "aec4478c",
   "metadata": {},
   "outputs": [],
   "source": [
    "sonuc = stringKontrolFonksiyonu(\"ruby\")"
   ]
  },
  {
   "cell_type": "code",
   "execution_count": null,
   "id": "a034556c",
   "metadata": {},
   "outputs": [],
   "source": [
    "sonuc"
   ]
  },
  {
   "cell_type": "raw",
   "id": "dc4d2d89",
   "metadata": {},
   "source": [
    "#args, kwargs"
   ]
  },
  {
   "cell_type": "markdown",
   "id": "7054419e",
   "metadata": {},
   "source": [
    "def sonsuzToplama(*args):\n",
    "    return sum(args)"
   ]
  },
  {
   "cell_type": "code",
   "execution_count": 17,
   "id": "fa62163d",
   "metadata": {},
   "outputs": [],
   "source": [
    "def sonsuzToplama(*args):\n",
    "    return sum(args)"
   ]
  },
  {
   "cell_type": "code",
   "execution_count": 18,
   "id": "4c90f67a",
   "metadata": {},
   "outputs": [
    {
     "data": {
      "text/plain": [
       "110"
      ]
     },
     "execution_count": 18,
     "metadata": {},
     "output_type": "execute_result"
    }
   ],
   "source": [
    "sonsuzToplama(10,20,30,50)"
   ]
  },
  {
   "cell_type": "code",
   "execution_count": 19,
   "id": "f77ab3b6",
   "metadata": {},
   "outputs": [
    {
     "data": {
      "text/plain": [
       "3"
      ]
     },
     "execution_count": 19,
     "metadata": {},
     "output_type": "execute_result"
    }
   ],
   "source": [
    "sonsuzToplama(1,2)"
   ]
  },
  {
   "cell_type": "code",
   "execution_count": 20,
   "id": "40fb2148",
   "metadata": {},
   "outputs": [],
   "source": [
    "def keywordFonksiyonu(**kwargs):\n",
    "    return(kwargs)"
   ]
  },
  {
   "cell_type": "code",
   "execution_count": 21,
   "id": "a874785e",
   "metadata": {},
   "outputs": [
    {
     "data": {
      "text/plain": [
       "{'muz': 100, 'elma': 200, 'karpuz': 300}"
      ]
     },
     "execution_count": 21,
     "metadata": {},
     "output_type": "execute_result"
    }
   ],
   "source": [
    "keywordFonksiyonu(muz=100,elma=200,karpuz=300)"
   ]
  },
  {
   "cell_type": "code",
   "execution_count": 23,
   "id": "77d32851",
   "metadata": {},
   "outputs": [
    {
     "data": {
      "text/plain": [
       "dict"
      ]
     },
     "execution_count": 23,
     "metadata": {},
     "output_type": "execute_result"
    }
   ],
   "source": [
    "type(keywordFonksiyonu(muz=100,elma=200,karpuz=300))"
   ]
  },
  {
   "cell_type": "code",
   "execution_count": 24,
   "id": "b96d9f08",
   "metadata": {},
   "outputs": [],
   "source": [
    "def kontrolKeyword(**kwargs):\n",
    "    if \"python\" in kwargs:\n",
    "        print(\"python key olarak verilmiş\")\n",
    "    else:\n",
    "        print(\"python keylerde yok\")"
   ]
  },
  {
   "cell_type": "code",
   "execution_count": 26,
   "id": "7efa8f7d",
   "metadata": {},
   "outputs": [
    {
     "ename": "SyntaxError",
     "evalue": "invalid syntax (1999622346.py, line 1)",
     "output_type": "error",
     "traceback": [
      "\u001b[1;36m  Input \u001b[1;32mIn [26]\u001b[1;36m\u001b[0m\n\u001b[1;33m    kontrolKeyword{java=4}\u001b[0m\n\u001b[1;37m                  ^\u001b[0m\n\u001b[1;31mSyntaxError\u001b[0m\u001b[1;31m:\u001b[0m invalid syntax\n"
     ]
    }
   ],
   "source": [
    "kontrolKeyword{java=4}"
   ]
  },
  {
   "cell_type": "code",
   "execution_count": null,
   "id": "d2d566df",
   "metadata": {},
   "outputs": [],
   "source": []
  }
 ],
 "metadata": {
  "kernelspec": {
   "display_name": "Python 3 (ipykernel)",
   "language": "python",
   "name": "python3"
  },
  "language_info": {
   "codemirror_mode": {
    "name": "ipython",
    "version": 3
   },
   "file_extension": ".py",
   "mimetype": "text/x-python",
   "name": "python",
   "nbconvert_exporter": "python",
   "pygments_lexer": "ipython3",
   "version": "3.9.12"
  }
 },
 "nbformat": 4,
 "nbformat_minor": 5
}
